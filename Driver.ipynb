{
 "cells": [
  {
   "cell_type": "code",
   "execution_count": 4,
   "metadata": {
    "scrolled": false
   },
   "outputs": [
    {
     "name": "stdout",
     "output_type": "stream",
     "text": [
      "[0.73616432 0.73646495 0.73683361 0.73723821 0.73765836 0.73809117\n",
      " 0.73853494 0.73898902 0.73945309 0.73992703 0.7404108  0.7409044\n",
      " 0.74140787 0.74192128 0.7424447  0.74297822 0.74352192 0.74407591\n",
      " 0.74464029 0.74521516 0.74580063 0.74639681 0.74700382 0.74762178\n",
      " 0.7482508  0.74889101 0.74954252 0.75020547 0.75087998 0.75156617\n",
      " 0.75226419 0.75297416 0.75369621 0.75443048 0.75517712 0.75593625\n",
      " 0.75670803 0.75749259 0.75829007 0.75910064 0.75992443 0.76076159\n",
      " 0.76161228 0.76247666 0.76335487 0.76424708 0.76515345 0.76607414\n",
      " 0.76700931 0.76795914 0.76892378 0.76990341 0.77089821 0.77190834\n",
      " 0.77293399 0.77397533 0.77503255 0.77610583 0.77719536 0.77830132\n",
      " 0.77942392 0.78056333 0.78171977 0.78289342 0.7840845  0.7852932\n",
      " 0.78651974 0.78776432 0.78902717 0.79030849 0.7916085  0.79292744\n",
      " 0.79426553 0.795623   0.79700008 0.79839702 0.79981405 0.80125142\n",
      " 0.80270939 0.8041882  0.80568812 0.8072094  0.80875233 0.81031716\n",
      " 0.81190419 0.8135137  0.81514597 0.8168013  0.81848    0.82018237\n",
      " 0.82190872 0.82365939 0.82543469 0.82723497 0.82906057 0.83091184\n",
      " 0.83278915 0.83469286 0.83662336 0.83858103 0.84056627 0.8425795\n",
      " 0.84462114 0.84669161 0.84879138 0.85092089 0.85308062 0.85527105\n",
      " 0.8574927  0.85974607 0.86203169 0.86435013 0.86670195 0.86908774\n",
      " 0.8715081  0.87396367 0.87645509 0.87898304 0.88154822 0.88415134\n",
      " 0.88679316 0.88947446 0.89219604 0.89495874 0.89776342 0.90061099\n",
      " 0.90350238 0.90643857 0.90942058 0.91244945 0.91552628 0.91865221\n",
      " 0.92182843 0.92505618 0.92833674 0.93167146 0.93506173 0.93850902\n",
      " 0.94201484 0.94558077 0.94920847 0.95289967 0.95665616 0.96047983\n",
      " 0.96437262 0.96833659 0.97237387 0.9764867  0.98067739 0.98494838\n",
      " 0.98930222 0.99374154 0.99826914 1.00288788 1.00760081 1.01241109\n",
      " 1.017322   1.022337   1.0274597  1.03269386 1.03804341 1.04351246\n",
      " 1.04910532 1.05482647 1.0606806  1.06667261 1.07280762 1.07909099\n",
      " 1.08552831 1.09212543 1.09888843 1.10582371 1.11293793 1.12023804\n",
      " 1.12773132 1.13542536 1.1433281  1.15144783 1.1597932  1.16837324\n",
      " 1.17719741 1.18627555 1.19561796 1.20523538 1.21513904 1.22534065\n",
      " 1.23585243 1.24668714 1.25785812 1.26937925 1.28126505 1.29353065\n",
      " 1.30619185 1.31926513 1.33276768 1.34671744 1.36113311 1.37603421\n",
      " 1.39144107 1.40737493]\n"
     ]
    }
   ],
   "source": [
    "import numpy as np\n",
    "import matplotlib.pyplot as plt\n",
    "from scipy import special\n",
    "from toolbox import sphereical_transport\n",
    "#inputs\n",
    "n = 4\n",
    "cells = 200\n",
    "r = 1.0\n",
    "scat_order = 0\n",
    "sig_t = 1.0\n",
    "sig_a = 1.0\n",
    "q_0 = np.zeros(cells) #p/cm^3-s\n",
    "BC = 'vac'\n",
    "DSA = False\n",
    "legendre_xs_mom = np.array([0])\n",
    "#generate angular grid center points (roots of legendre polynomial of degree n) and the\n",
    "#corresponding gauss quadrature weights\n",
    "ang_cell_centers, w = np.polynomial.legendre.leggauss(n)\n",
    "#generate angular cell edge values \n",
    "ang_cell_edges = np.zeros(n+1)\n",
    "ang_cell_edges[0] = -1\n",
    "for i in range(1,n+1):\n",
    "    ang_cell_edges[i] = ang_cell_edges[i-1] + w[i-1]\n",
    "#generate alpha coefficients\n",
    "alpha = np.zeros(n+1)\n",
    "for i in range(1,n+1):\n",
    "    alpha[i] = alpha[i-1] - (2*w[i-1]*ang_cell_centers[i-1])\n",
    "alpha[n] = 0\n",
    "#generate beta coefficients\n",
    "beta = np.zeros(n)\n",
    "for i in range(n):\n",
    "    beta[i] = (ang_cell_centers[i] - ang_cell_edges[i])/(ang_cell_edges[i+1] - ang_cell_edges[i])\n",
    "#initialize sphereical transport class\n",
    "sph_trans = sphereical_transport(q_0,legendre_xs_mom,cells,n,r,sig_t,sig_a,BC,scat_order,ang_cell_centers,w,alpha,beta)\n",
    "#initial guess for source\n",
    "ang_flux_0 = np.zeros(n)\n",
    "for i in range(cells):\n",
    "    sph_trans.update_scat_source_mom(i,ang_flux_0)\n",
    "#generate initial phi using initial guess for psi\n",
    "phi_0 = np.zeros(cells)\n",
    "for i in range(cells):\n",
    "    for n in range(np.size(ang_flux_0)):\n",
    "        phi_0[i] += ang_flux_0[n]*w[n]\n",
    "epsilon = 1\n",
    "#initialize spatial inflow vector\n",
    "spatial_inflow = np.zeros(n)\n",
    "#begin source iteration\n",
    "while epsilon > 1e-6:\n",
    "    #compute psi at mu = -1 which will be the first angular inflow vector\n",
    "    ang_inflow, origin_flux = sph_trans.starting_direction()\n",
    "    #do the full domain sweep\n",
    "    phi,outflow = sph_trans.sweep(ang_inflow,origin_flux)\n",
    "    if DSA:\n",
    "        DSA_acc(phi,phi_0)\n",
    "    epsilon = np.linalg.norm(phi_0 - phi)\n",
    "    phi_0 = phi\n",
    "print(phi)"
   ]
  },
  {
   "cell_type": "code",
   "execution_count": 5,
   "metadata": {},
   "outputs": [
    {
     "name": "stdout",
     "output_type": "stream",
     "text": [
      "4.025825855229543\n"
     ]
    }
   ],
   "source": [
    "outflows = [0.16595038478084856,0.16595141023323273,0.1659516649517479]\n",
    "order = np.abs((outflows[1]-outflows[0])/(outflows[1]-outflows[2]))\n",
    "print(order)"
   ]
  }
 ],
 "metadata": {
  "kernelspec": {
   "display_name": "Python 3",
   "language": "python",
   "name": "python3"
  },
  "language_info": {
   "codemirror_mode": {
    "name": "ipython",
    "version": 3
   },
   "file_extension": ".py",
   "mimetype": "text/x-python",
   "name": "python",
   "nbconvert_exporter": "python",
   "pygments_lexer": "ipython3",
   "version": "3.7.3"
  }
 },
 "nbformat": 4,
 "nbformat_minor": 2
}
