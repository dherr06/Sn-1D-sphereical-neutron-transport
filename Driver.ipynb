{
 "cells": [
  {
   "cell_type": "code",
   "execution_count": 13,
   "metadata": {
    "scrolled": false
   },
   "outputs": [
    {
     "name": "stdout",
     "output_type": "stream",
     "text": [
      "[0.99999872 0.99999873 0.99999873 0.99999875 0.99999876 0.99999879\n",
      " 0.99999881 0.99999885 0.99999889 0.99999895 0.999999   0.99999907\n",
      " 0.99999915 0.99999923 0.99999932 0.99999941 0.99999951 0.99999962\n",
      " 0.99999973 0.99999985 0.99999997 1.0000001  1.00000023 1.00000036\n",
      " 1.0000005  1.00000063 1.00000077 1.00000091 1.00000105 1.00000119\n",
      " 1.00000133 1.00000146 1.0000016  1.00000173 1.00000186 1.00000198\n",
      " 1.0000021  1.00000222 1.00000233 1.00000243 1.00000253 1.00000262\n",
      " 1.0000027  1.00000277 1.00000283 1.00000289 1.00000293 1.00000296\n",
      " 1.00000298 1.00000298 1.00000298 1.00000296 1.00000292 1.00000287\n",
      " 1.00000281 1.00000273 1.00000264 1.00000253 1.0000024  1.00000226\n",
      " 1.00000211 1.00000194 1.00000175 1.00000155 1.00000134 1.00000112\n",
      " 1.00000088 1.00000063 1.00000038 1.00000012 0.99999985 0.99999958\n",
      " 0.99999932 0.99999905 0.99999879 0.99999854 0.99999831 0.99999808\n",
      " 0.99999788 0.9999977  0.99999755 0.99999744 0.99999735 0.99999731\n",
      " 0.99999731 0.99999736 0.99999746 0.9999976  0.9999978  0.99999804\n",
      " 0.99999832 0.99999864 0.99999898 0.99999933 0.99999969 1.00000001\n",
      " 1.0000003  1.00000052 1.00000065 1.0000007 ]\n",
      "4\n",
      "7.3665993377093795\n",
      "4.188789425499831\n",
      "3.1778010700425554\n",
      "1.2003051323829567e-06\n"
     ]
    }
   ],
   "source": [
    "import numpy as np\n",
    "import matplotlib.pyplot as plt\n",
    "from scipy import special\n",
    "from toolbox import sphereical_transport, error\n",
    "#inputs\n",
    "n = 8\n",
    "cells = 100\n",
    "r = 1.0\n",
    "scat_order = 0\n",
    "sig_t = 3.0\n",
    "sig_a = 1.0\n",
    "q_0 = np.ones(cells) #p/cm^3-s\n",
    "normalize = False\n",
    "psi_incident = np.ones(int(n/2))/sig_a/2\n",
    "accelerate = True\n",
    "legendre_xs_mom = np.array([2])\n",
    "#generate angular grid center points (roots of legendre polynomial of degree n) and the\n",
    "#corresponding gauss quadrature weights\n",
    "ang_cell_centers, w = np.polynomial.legendre.leggauss(n)\n",
    "#generate angular cell edge values \n",
    "ang_cell_edges = np.zeros(n+1)\n",
    "ang_cell_edges[0] = -1\n",
    "for i in range(1,n+1):\n",
    "    ang_cell_edges[i] = ang_cell_edges[i-1] + w[i-1]\n",
    "#generate alpha coefficients\n",
    "alpha = np.zeros(n+1)\n",
    "for i in range(1,n+1):\n",
    "    alpha[i] = alpha[i-1] - (2*w[i-1]*ang_cell_centers[i-1])\n",
    "alpha[n] = 0\n",
    "#generate beta coefficients\n",
    "beta = np.zeros(n)\n",
    "for i in range(n):\n",
    "    beta[i] = (ang_cell_centers[i] - ang_cell_edges[i])/(ang_cell_edges[i+1] - ang_cell_edges[i])\n",
    "#initialize sphereical transport class\n",
    "sph_trans = sphereical_transport(q_0,legendre_xs_mom,cells,n,r,sig_t,sig_a,normalize,psi_incident,scat_order,ang_cell_centers,w,alpha,beta,accelerate)\n",
    "#initial guess for source\n",
    "ang_flux_0 = np.zeros(n)\n",
    "for i in range(cells):\n",
    "    sph_trans.update_scat_source_mom(i,ang_flux_0)\n",
    "#generate initial phi using initial guess for psi\n",
    "phi_0 = np.zeros(cells)\n",
    "for i in range(cells):\n",
    "    for ang in range(np.size(ang_flux_0)):\n",
    "        phi_0[i] += ang_flux_0[ang]*w[ang]\n",
    "epsilon = 1\n",
    "#begin source iteration\n",
    "index = 0\n",
    "while epsilon > 1e-4:\n",
    "    #compute psi at mu = -1 which will be the first angular inflow vector\n",
    "    ang_inflow, origin_flux = sph_trans.starting_direction()\n",
    "    #do the full domain sweep\n",
    "    phi = sph_trans.sweep(ang_inflow,origin_flux)\n",
    "    if accelerate:\n",
    "        sph_trans.DSA(phi,phi_0)\n",
    "    index += 1\n",
    "    if index > 99:\n",
    "        print('Iteration limit exceeded')\n",
    "        break\n",
    "    epsilon = np.max(error.rel_change(phi,phi_0))\n",
    "    phi_0 = phi\n",
    "print(phi)\n",
    "print(index-1)\n",
    "#compute balance tables\n",
    "abs_rate = 0\n",
    "for i in range(cells):\n",
    "    abs_rate += phi[i]*sig_a*sph_trans.V(i)\n",
    "reflection = 0\n",
    "for ang in range(int(n/2),n):\n",
    "    reflection += sph_trans.outflow[ang - int(n/2)]*ang_cell_centers[ang]*w[ang]*sph_trans.A(cells)\n",
    "sink_rate = abs_rate + reflection\n",
    "source_rate = 0\n",
    "for i in range(cells):\n",
    "    source_rate += q_0[i]*sph_trans.V(i)\n",
    "for ang in range(0,int(n/2)):\n",
    "    source_rate += sph_trans.psi_incident[ang]*-ang_cell_centers[ang]*w[ang]*sph_trans.A(cells)\n",
    "bal = np.abs((source_rate - sink_rate)/source_rate)\n",
    "print(source_rate)\n",
    "print(abs_rate)\n",
    "print(reflection)\n",
    "print(bal)"
   ]
  },
  {
   "cell_type": "code",
   "execution_count": 2,
   "metadata": {},
   "outputs": [
    {
     "name": "stdout",
     "output_type": "stream",
     "text": [
      "3.999496799236155\n"
     ]
    }
   ],
   "source": [
    "outflows = [4.1299017922967245,4.129801501299079,4.129776425395114]\n",
    "order = np.abs((outflows[1]-outflows[0])/(outflows[1]-outflows[2]))\n",
    "print(order)"
   ]
  }
 ],
 "metadata": {
  "kernelspec": {
   "display_name": "Python 3",
   "language": "python",
   "name": "python3"
  },
  "language_info": {
   "codemirror_mode": {
    "name": "ipython",
    "version": 3
   },
   "file_extension": ".py",
   "mimetype": "text/x-python",
   "name": "python",
   "nbconvert_exporter": "python",
   "pygments_lexer": "ipython3",
   "version": "3.7.3"
  }
 },
 "nbformat": 4,
 "nbformat_minor": 2
}
